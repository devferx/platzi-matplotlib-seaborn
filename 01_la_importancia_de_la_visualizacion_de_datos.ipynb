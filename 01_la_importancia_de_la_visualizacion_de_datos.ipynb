{
  "nbformat": 4,
  "nbformat_minor": 0,
  "metadata": {
    "colab": {
      "provenance": []
    },
    "kernelspec": {
      "name": "python3",
      "display_name": "Python 3"
    },
    "language_info": {
      "name": "python"
    }
  },
  "cells": [
    {
      "cell_type": "markdown",
      "source": [
        "# La importancia de la visualización de datos\n",
        "\n",
        "Visualizar los datos te da respuestas a preguntas que ni siquiera tenías. Entonces, ¿por qué es importante para el mundo de las ciencias de datos? Veamos a detalle.\n",
        "\n",
        "## ¿Cuál es la importancia de la visualización de datos?\n",
        "\n",
        "La visualización de datos es importante porque te permite entender a profundidad tendencias, valores o patrones de datos representados a través de representación gráfica de la información.\n",
        "\n",
        "### Permite mayor contexto\n",
        "Supón que tienes los datos y sabes hacer análisis estadísticos como desviación estándar o correlación, pero esto no da el total de los datos. Por ejemplo, al visualizarlos de manera gráfica, usando un dataset como Datasaurus, puedes ver representaciones diferentes a pesar de tener la misma información.\n",
        "\n",
        "### Permite hallazgos en nuestros datos\n",
        "La visualización de datos te permite encontrar hallazgos directamente y de manera muy sencilla, como por ejemplo:\n",
        "\n",
        "- Hallar tendencias\n",
        "- Comportamientos\n",
        "- Detectar Outliers\n",
        "\n",
        "### Permite mayor claridad en el código\n",
        "También se utiliza en la ciencia de datos orientada hacia el machine learning o inteligencia artificial, como las líneas de entrenamiento. Esto hace parte de un entrenamiento de cualquier algoritmo pues siempre vas a estar analizando esto y la manera más fácil de entenderlo a través de visualizaciones.\n",
        "\n",
        "## Librerías para visualización de datos\n",
        "En la visualización de datos encontrarás dos librerías muy importantes para empezar:\n",
        "\n",
        "### Matplotlib\n",
        "- Emula los comandos de Matlab\n",
        "- Usa Numpy\n",
        "- Escrita en Python\n",
        "- Es muy simple de escribir\n",
        "- Rápida\n",
        "- Personalizable\n",
        "\n",
        "### Seaborn\n",
        "- Librería montada sobre Matplotlib"
      ],
      "metadata": {
        "id": "2MScAPKT1XAI"
      }
    }
  ]
}
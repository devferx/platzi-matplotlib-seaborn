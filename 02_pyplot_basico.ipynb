{
  "nbformat": 4,
  "nbformat_minor": 0,
  "metadata": {
    "colab": {
      "provenance": []
    },
    "kernelspec": {
      "name": "python3",
      "display_name": "Python 3"
    },
    "language_info": {
      "name": "python"
    }
  },
  "cells": [
    {
      "cell_type": "markdown",
      "source": [
        "Pyplot es una herramienta que tiene Matplotlib para ejecutar gráficas de manera sencilla. Véamos cómo puedes lograrlo."
      ],
      "metadata": {
        "id": "D4KZr_RY3A9I"
      }
    },
    {
      "cell_type": "markdown",
      "source": [
        "Importamos Matplotlib y Numpy"
      ],
      "metadata": {
        "id": "X09Ql-QD3ESe"
      }
    },
    {
      "cell_type": "code",
      "execution_count": 1,
      "metadata": {
        "id": "OK8Zytvh230d"
      },
      "outputs": [],
      "source": [
        "import matplotlib.pyplot as plt\n",
        "import numpy as np"
      ]
    },
    {
      "cell_type": "markdown",
      "source": [
        "Creamos nuestras variables"
      ],
      "metadata": {
        "id": "HtLYu_On3IZk"
      }
    },
    {
      "cell_type": "code",
      "source": [
        "x = np.linspace(0,5,11)\n",
        "y = x ** 2"
      ],
      "metadata": {
        "id": "tMAayf1J3Ip0"
      },
      "execution_count": 3,
      "outputs": []
    },
    {
      "cell_type": "markdown",
      "source": [
        "Graficar en función de y"
      ],
      "metadata": {
        "id": "YbFvpA0l3bkc"
      }
    },
    {
      "cell_type": "code",
      "source": [
        "plt.plot(x, y)\n",
        "plt.show()"
      ],
      "metadata": {
        "colab": {
          "base_uri": "https://localhost:8080/",
          "height": 265
        },
        "id": "F34staVm3OoX",
        "outputId": "ff47b4a4-0d5b-4086-b10f-23edb2f29045"
      },
      "execution_count": 5,
      "outputs": [
        {
          "output_type": "display_data",
          "data": {
            "text/plain": [
              "<Figure size 432x288 with 1 Axes>"
            ],
            "image/png": "[encoded data removed]"
          },
          "metadata": {
            "needs_background": "light"
          }
        }
      ]
    },
    {
      "cell_type": "markdown",
      "source": [
        "### Modificar gráficas usando Pyplot\n",
        "Ahora, vamos a cambiar color de la gráfica\n",
        "\n",
        "| Character | Color   |\n",
        "| --------- | ------- |\n",
        "| 'B'       | blue    |\n",
        "| 'G'       | Green   |\n",
        "| 'M'       | Magenta |"
      ],
      "metadata": {
        "id": "NQ9dbEBh3fBH"
      }
    },
    {
      "cell_type": "code",
      "source": [
        "plt.plot(x,y, 'm')\n",
        "plt.show()"
      ],
      "metadata": {
        "colab": {
          "base_uri": "https://localhost:8080/",
          "height": 265
        },
        "id": "iOdUjwgt3RVh",
        "outputId": "d2a91799-48f6-49a5-fa29-266997e80c66"
      },
      "execution_count": 6,
      "outputs": [
        {
          "output_type": "display_data",
          "data": {
            "text/plain": [
              "<Figure size 432x288 with 1 Axes>"
            ],
            "image/png": "[encoded data removed]"
          },
          "metadata": {
            "needs_background": "light"
          }
        }
      ]
    },
    {
      "cell_type": "markdown",
      "source": [
        "### Cambiar más parámetros\n",
        "Format Strings\n",
        "\n",
        "\n",
        "| Character | Description           |\n",
        "| --------- | --------------------- |\n",
        "| '.'       | Point Marker          |\n",
        "| ','       | Pixel Marker          |\n",
        "| 'o'       | Circle Marker         |\n",
        "| 'v'       | Triangle Down Marker  |\n",
        "| '^'       | Triangle Up Marker    |\n",
        "| '<'       | Triangle Left Marker  |\n",
        "| '>'       | Triangle right Marker |"
      ],
      "metadata": {
        "id": "_7KQPGWL4DUk"
      }
    },
    {
      "cell_type": "code",
      "source": [
        "plt.plot(x,y, 'mo')\n",
        "plt.show()"
      ],
      "metadata": {
        "colab": {
          "base_uri": "https://localhost:8080/",
          "height": 265
        },
        "id": "jK5fVQw932ox",
        "outputId": "b5d71905-023e-4709-b031-e02c0cc2b30c"
      },
      "execution_count": 11,
      "outputs": [
        {
          "output_type": "display_data",
          "data": {
            "text/plain": [
              "<Figure size 432x288 with 1 Axes>"
            ],
            "image/png": "[encoded data removed]"
          },
          "metadata": {
            "needs_background": "light"
          }
        }
      ]
    },
    {
      "cell_type": "markdown",
      "source": [
        "### Line Styles\n",
        "| Character  | Description         |\n",
        "| ---------- | ------------------- |\n",
        "| '-'        | Solid line style    |\n",
        "| '–'        | Dashed line style   |\n",
        "| '-.'       | Dash-dot line style |\n",
        "| ':'        | Dotted line style   |"
      ],
      "metadata": {
        "id": "szwAYpsK4nM8"
      }
    },
    {
      "cell_type": "code",
      "source": [
        "plt.plot(x,y, 'rs-')\n",
        "plt.show()"
      ],
      "metadata": {
        "colab": {
          "base_uri": "https://localhost:8080/",
          "height": 265
        },
        "id": "RGC8WgsA4hy7",
        "outputId": "f341093d-d0a7-46cd-a882-1d6b20fbcb2f"
      },
      "execution_count": 13,
      "outputs": [
        {
          "output_type": "display_data",
          "data": {
            "text/plain": [
              "<Figure size 432x288 with 1 Axes>"
            ],
            "image/png": "[encoded data removed]"
          },
          "metadata": {
            "needs_background": "light"
          }
        }
      ]
    },
    {
      "cell_type": "code",
      "source": [
        "#grafica de color rojo, con diamantes y puntos consecutivos\n",
        "plt.plot(x,y, 'rD:')\n",
        "plt.show()"
      ],
      "metadata": {
        "colab": {
          "base_uri": "https://localhost:8080/",
          "height": 265
        },
        "id": "wsb9h6Xc5qGc",
        "outputId": "d8dd31e9-abfb-48f1-9168-3870adb8e080"
      },
      "execution_count": 20,
      "outputs": [
        {
          "output_type": "display_data",
          "data": {
            "text/plain": [
              "<Figure size 432x288 with 1 Axes>"
            ],
            "image/png": "[encoded data removed]"
          },
          "metadata": {
            "needs_background": "light"
          }
        }
      ]
    },
    {
      "cell_type": "markdown",
      "source": [
        "### Crear histograma"
      ],
      "metadata": {
        "id": "u4jNm0Pd6JI-"
      }
    },
    {
      "cell_type": "code",
      "source": [
        "plt.hist(x)\n",
        "plt.show()"
      ],
      "metadata": {
        "colab": {
          "base_uri": "https://localhost:8080/",
          "height": 265
        },
        "id": "b16UHpDN5yiD",
        "outputId": "67dcba4b-f7c5-4570-df9f-96d7111da508"
      },
      "execution_count": 15,
      "outputs": [
        {
          "output_type": "display_data",
          "data": {
            "text/plain": [
              "<Figure size 432x288 with 1 Axes>"
            ],
            "image/png": "[encoded data removed]"
          },
          "metadata": {
            "needs_background": "light"
          }
        }
      ]
    },
    {
      "cell_type": "markdown",
      "source": [
        "### Crear gráfica de pie"
      ],
      "metadata": {
        "id": "0uDiK31T6K9I"
      }
    },
    {
      "cell_type": "code",
      "source": [
        "plt.pie(x)\n",
        "plt.show()"
      ],
      "metadata": {
        "colab": {
          "base_uri": "https://localhost:8080/",
          "height": 248
        },
        "id": "gYrjfhcp52OE",
        "outputId": "be666ab1-968e-4d99-c079-4d2d909c9e1d"
      },
      "execution_count": 16,
      "outputs": [
        {
          "output_type": "display_data",
          "data": {
            "text/plain": [
              "<Figure size 432x288 with 1 Axes>"
            ],
            "image/png": "[encoded data removed]"
          },
          "metadata": {}
        }
      ]
    },
    {
      "cell_type": "markdown",
      "source": [
        "### Conocer correlación entre variables"
      ],
      "metadata": {
        "id": "DZ8ZzRH16Mkp"
      }
    },
    {
      "cell_type": "code",
      "source": [
        "plt.scatter(x, y)\n",
        "plt.show()"
      ],
      "metadata": {
        "colab": {
          "base_uri": "https://localhost:8080/",
          "height": 265
        },
        "id": "IpPQTe1f54Gp",
        "outputId": "5bbee903-4402-45b0-ef96-977eae8a3d95"
      },
      "execution_count": 18,
      "outputs": [
        {
          "output_type": "display_data",
          "data": {
            "text/plain": [
              "<Figure size 432x288 with 1 Axes>"
            ],
            "image/png": "[encoded data removed]"
          },
          "metadata": {
            "needs_background": "light"
          }
        }
      ]
    },
    {
      "cell_type": "markdown",
      "source": [
        "### Distribución de los datos\n",
        "Distribución de los datos: Gráfico de caja"
      ],
      "metadata": {
        "id": "ldIZNWUB6OcQ"
      }
    },
    {
      "cell_type": "code",
      "source": [
        "plt.boxplot(x)\n",
        "plt.show()"
      ],
      "metadata": {
        "colab": {
          "base_uri": "https://localhost:8080/",
          "height": 265
        },
        "id": "pvGJXC0_55yo",
        "outputId": "4a328493-74fb-4dbf-f856-8d516c715738"
      },
      "execution_count": 19,
      "outputs": [
        {
          "output_type": "display_data",
          "data": {
            "text/plain": [
              "<Figure size 432x288 with 1 Axes>"
            ],
            "image/png": "[encoded data removed]"
          },
          "metadata": {
            "needs_background": "light"
          }
        }
      ]
    },
    {
      "cell_type": "code",
      "source": [],
      "metadata": {
        "id": "G_NYTJvs5-HY"
      },
      "execution_count": null,
      "outputs": []
    }
  ]
}